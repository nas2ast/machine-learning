{
 "cells": [
  {
   "cell_type": "code",
   "execution_count": 1,
   "id": "3883299e",
   "metadata": {},
   "outputs": [],
   "source": [
    "import numpy as np\n",
    "import matplotlib.pyplot as plt\n"
   ]
  },
  {
   "cell_type": "code",
   "execution_count": 2,
   "id": "ccbabbe9",
   "metadata": {},
   "outputs": [
    {
     "ename": "IndentationError",
     "evalue": "unindent does not match any outer indentation level (<string>, line 9)",
     "output_type": "error",
     "traceback": [
      "\u001b[0;36m  File \u001b[0;32m<string>:9\u001b[0;36m\u001b[0m\n\u001b[0;31m    mins = T - hours*60\u001b[0m\n\u001b[0m                       ^\u001b[0m\n\u001b[0;31mIndentationError\u001b[0m\u001b[0;31m:\u001b[0m unindent does not match any outer indentation level\n"
     ]
    }
   ],
   "source": [
    "H = int(input())\n",
    "M = int(input())\n",
    "T = int(input())\n",
    "hours = T//60\n",
    "mins = T - T//60 * 60\n",
    "print(f'{H+hours}:{M+mins}')"
   ]
  },
  {
   "cell_type": "code",
   "execution_count": 4,
   "id": "f4f2a63e",
   "metadata": {},
   "outputs": [
    {
     "name": "stdout",
     "output_type": "stream",
     "text": [
      "2\n",
      "60\n",
      "90\n",
      "04:30\n"
     ]
    }
   ],
   "source": [
    "H = int(input())\n",
    "M = int(input())\n",
    "T = int(input())\n",
    "\n",
    "ourminutes = H * 60 + M\n",
    "\n",
    "newourminutes = ourminutes + T\n",
    "\n",
    "newH = (newourminutes // 60) % 24\n",
    "newM = newourminutes % 60\n",
    "\n",
    "print(f\"{newH:02}:{newM:02}\")"
   ]
  },
  {
   "cell_type": "code",
   "execution_count": 6,
   "id": "fd9fda64",
   "metadata": {},
   "outputs": [
    {
     "name": "stdout",
     "output_type": "stream",
     "text": [
      "5 5\n",
      "[[  0 255   0 255   0]\n",
      " [255   0 255   0 255]\n",
      " [  0 255   0 255   0]\n",
      " [255   0 255   0 255]\n",
      " [  0 255   0 255   0]]\n"
     ]
    }
   ],
   "source": [
    "\n",
    "height, width = map(int, input().split())\n",
    "chessboard = np.zeros((height, width), dtype = int)\n",
    "\n",
    "chessboard[1:height:2, 0:height:2] = 255\n",
    "chessboard[0:width:2, 1:width:2] = 255 \n",
    "\n",
    "print(chessboard)"
   ]
  },
  {
   "cell_type": "code",
   "execution_count": 7,
   "id": "c4f9fbbc",
   "metadata": {},
   "outputs": [
    {
     "name": "stdout",
     "output_type": "stream",
     "text": [
      "количество векторов = 2\n",
      "3 3 3\n",
      "5 5 5\n",
      "<class 'list'>\n",
      "<class 'list'>\n",
      "<class 'list'>\n",
      "<class 'list'>\n",
      "<class 'list'>\n",
      "<class 'list'>\n",
      "<class 'list'>\n",
      "<class 'list'>\n"
     ]
    },
    {
     "data": {
      "text/plain": [
       "'\\na = list(map(int, input().split()))\\nb = list(map(int, input().split()))\\na = np.array(a)\\nb = np.array(b)\\n\\ncos = sum(a*b)/np.sqrt(sum(a**2))*np.sqrt(sum(b**2))\\nprint(round(cos, 2))\\n'"
      ]
     },
     "execution_count": 7,
     "metadata": {},
     "output_type": "execute_result"
    }
   ],
   "source": [
    "import numpy as np\n",
    "with open('input.txt', 'r') as f:\n",
    "    matrix = [[int(num) for num in line.split()] for line in f]\n",
    "matrix = np.array(matrix)\n",
    "for row in matrix:\n",
    "    for col in row:\n",
    "        cos = sum()/np.sqrt(sum(a**2))*np.sqrt(sum(b**2))\n",
    "print(round(cos, 2))\n"
   ]
  },
  {
   "cell_type": "markdown",
   "id": "45800cca",
   "metadata": {},
   "source": [
    "посмотреть как работает padding"
   ]
  },
  {
   "cell_type": "code",
   "execution_count": 9,
   "id": "4bc0e3c2",
   "metadata": {},
   "outputs": [
    {
     "ename": "SyntaxError",
     "evalue": "invalid syntax. Perhaps you forgot a comma? (387333713.py, line 8)",
     "output_type": "error",
     "traceback": [
      "\u001b[0;36m  Cell \u001b[0;32mIn[9], line 8\u001b[0;36m\u001b[0m\n\u001b[0;31m    distance = 1 - np.dot(vectors[i], vectors[j]) / (np.linalg.norm(vectors[i])  np.linalg.norm(vectors[j]))\u001b[0m\n\u001b[0m                                                     ^\u001b[0m\n\u001b[0;31mSyntaxError\u001b[0m\u001b[0;31m:\u001b[0m invalid syntax. Perhaps you forgot a comma?\n"
     ]
    }
   ],
   "source": [
    "\n",
    "def min_cosine_distance(vectors):\n",
    "\n",
    "    min_distance = 1.0  # Инициализируем минимальное расстояние как 1.0\n",
    "    for i in range(len(vectors)):\n",
    "        for j in range(i + 1, len(vectors)):\n",
    "            distance = 1 - np.dot(vectors[i], vectors[j]) / (np.linalg.norm(vectors[i])  np.linalg.norm(vectors[j]))\n",
    "            min_distance = min(min_distance, distance)\n",
    "\n",
    "    return min_distance\n",
    "\n",
    "# Пример использования:\n",
    "vectors = [\n",
    "  np.array([1, 2, 3]),\n",
    "  np.array([4, 5, 6]),\n",
    "  np.array([7, 8, 9])\n",
    "]\n",
    "\n",
    "min_distance = min_cosine_distance(vectors)\n",
    "print(f\"Наименьшее косинусное расстояние: {min_distance}\")\n",
    "```\n"
   ]
  },
  {
   "cell_type": "markdown",
   "id": "03531559",
   "metadata": {},
   "source": [
    "Задача D"
   ]
  },
  {
   "cell_type": "code",
   "execution_count": 21,
   "id": "f4ded03d",
   "metadata": {},
   "outputs": [
    {
     "name": "stdout",
     "output_type": "stream",
     "text": [
      "6 6\n",
      "225 0 0\n",
      "0 225 0\n"
     ]
    },
    {
     "data": {
      "image/png": "[encoded data removed]",
      "text/plain": [
       "<Figure size 640x480 with 1 Axes>"
      ]
     },
     "metadata": {},
     "output_type": "display_data"
    },
    {
     "name": "stdout",
     "output_type": "stream",
     "text": [
      "[[[  0 225   0]\n",
      "  [  0 225   0]\n",
      "  [  0 225   0]\n",
      "  [  0 225   0]\n",
      "  [  0 225   0]\n",
      "  [  0 225   0]]\n",
      "\n",
      " [[  0 225   0]\n",
      "  [  0 225   0]\n",
      "  [  0 225   0]\n",
      "  [  0 225   0]\n",
      "  [  0 225   0]\n",
      "  [  0 225   0]]\n",
      "\n",
      " [[  0 225   0]\n",
      "  [  0 225   0]\n",
      "  [225   0   0]\n",
      "  [225   0   0]\n",
      "  [  0 225   0]\n",
      "  [  0 225   0]]\n",
      "\n",
      " [[  0 225   0]\n",
      "  [  0 225   0]\n",
      "  [225   0   0]\n",
      "  [225   0   0]\n",
      "  [  0 225   0]\n",
      "  [  0 225   0]]\n",
      "\n",
      " [[  0 225   0]\n",
      "  [  0 225   0]\n",
      "  [  0 225   0]\n",
      "  [  0 225   0]\n",
      "  [  0 225   0]\n",
      "  [  0 225   0]]\n",
      "\n",
      " [[  0 225   0]\n",
      "  [  0 225   0]\n",
      "  [  0 225   0]\n",
      "  [  0 225   0]\n",
      "  [  0 225   0]\n",
      "  [  0 225   0]]]\n"
     ]
    }
   ],
   "source": [
    "height, width = map(int, input().split())\n",
    "square_color = np.array(list(map(int, input().split())))\n",
    "border_color = np.array(list(map(int, input().split())))\n",
    "\n",
    "image = np.zeros((height, width, 3), dtype=np.uint8)\n",
    "\n",
    "image[ : , : ] = square_color\n",
    "image[0:2, : ] = border_color\n",
    "image[height-2:height, :] = border_color\n",
    "image[:, 0:2] = border_color\n",
    "image[:, width-2:width] = border_color\n",
    "\n",
    "plt.imshow(image)\n",
    "plt.show()\n",
    "print(image)"
   ]
  },
  {
   "cell_type": "markdown",
   "id": "f8dd514b",
   "metadata": {},
   "source": [
    "Задача E"
   ]
  },
  {
   "cell_type": "code",
   "execution_count": 14,
   "id": "c0cf2856",
   "metadata": {},
   "outputs": [
    {
     "name": "stdout",
     "output_type": "stream",
     "text": [
      "6 2\n",
      "5 5\n",
      "6 6\n",
      "8 9\n",
      "1 0\n",
      "5 5\n",
      "1 0\n",
      "2\n"
     ]
    }
   ],
   "source": [
    "n, m = map(int, input().split())\n",
    "matrix = []\n",
    "for i in range(n):\n",
    "    row = input().split()\n",
    "    row = [int(x) for x in row]  \n",
    "    matrix.append(row)\n",
    "\n",
    "matrix = np.array(matrix)\n",
    "count = 0\n",
    "for i in range(len(matrix)):\n",
    "    for j in range(i+1, len(matrix)):\n",
    "        tmp = (matrix[i] == matrix[j]).all()\n",
    "        if tmp == True:\n",
    "            count+=2\n",
    "print(len(matrix) - count)\n"
   ]
  },
  {
   "cell_type": "code",
   "execution_count": null,
   "id": "36d26e5b",
   "metadata": {},
   "outputs": [],
   "source": [
    "n, m = map(int, input().split())\n",
    "matrix = []\n",
    "for i in range(n):\n",
    "    row = input().split()\n",
    "    row = [int(x) for x in row]\n",
    "    matrix.append(row)\n",
    "\n",
    "matrix = np.array(matrix)\n",
    "unique_rows = np.unique(matrix, axis=0)\n",
    "\n",
    "print(len(unique_rows))"
   ]
  },
  {
   "cell_type": "code",
   "execution_count": 1,
   "id": "f71a08a7",
   "metadata": {},
   "outputs": [
    {
     "ename": "FileNotFoundError",
     "evalue": "[Errno 2] No such file or directory: 'input.txt'",
     "output_type": "error",
     "traceback": [
      "\u001b[0;31m---------------------------------------------------------------------------\u001b[0m",
      "\u001b[0;31mFileNotFoundError\u001b[0m                         Traceback (most recent call last)",
      "Cell \u001b[0;32mIn[1], line 2\u001b[0m\n\u001b[1;32m      1\u001b[0m \u001b[38;5;28;01mimport\u001b[39;00m \u001b[38;5;21;01mnumpy\u001b[39;00m \u001b[38;5;28;01mas\u001b[39;00m \u001b[38;5;21;01mnp\u001b[39;00m\n\u001b[0;32m----> 2\u001b[0m \u001b[38;5;28;01mwith\u001b[39;00m \u001b[38;5;28;43mopen\u001b[39;49m\u001b[43m(\u001b[49m\u001b[38;5;124;43m'\u001b[39;49m\u001b[38;5;124;43minput.txt\u001b[39;49m\u001b[38;5;124;43m'\u001b[39;49m\u001b[43m,\u001b[49m\u001b[43m \u001b[49m\u001b[38;5;124;43m'\u001b[39;49m\u001b[38;5;124;43mr\u001b[39;49m\u001b[38;5;124;43m'\u001b[39;49m\u001b[43m)\u001b[49m \u001b[38;5;28;01mas\u001b[39;00m f:\n\u001b[1;32m      3\u001b[0m     matrix \u001b[38;5;241m=\u001b[39m [[\u001b[38;5;28mint\u001b[39m(num) \u001b[38;5;28;01mfor\u001b[39;00m num \u001b[38;5;129;01min\u001b[39;00m line\u001b[38;5;241m.\u001b[39msplit()] \u001b[38;5;28;01mfor\u001b[39;00m line \u001b[38;5;129;01min\u001b[39;00m f]\n\u001b[1;32m      4\u001b[0m matrix \u001b[38;5;241m=\u001b[39m np\u001b[38;5;241m.\u001b[39marray(matrix)\n",
      "File \u001b[0;32m/opt/tljh/user/lib/python3.12/site-packages/IPython/core/interactiveshell.py:308\u001b[0m, in \u001b[0;36m_modified_open\u001b[0;34m(file, *args, **kwargs)\u001b[0m\n\u001b[1;32m    301\u001b[0m \u001b[38;5;28;01mif\u001b[39;00m file \u001b[38;5;129;01min\u001b[39;00m {\u001b[38;5;241m0\u001b[39m, \u001b[38;5;241m1\u001b[39m, \u001b[38;5;241m2\u001b[39m}:\n\u001b[1;32m    302\u001b[0m     \u001b[38;5;28;01mraise\u001b[39;00m \u001b[38;5;167;01mValueError\u001b[39;00m(\n\u001b[1;32m    303\u001b[0m         \u001b[38;5;124mf\u001b[39m\u001b[38;5;124m\"\u001b[39m\u001b[38;5;124mIPython won\u001b[39m\u001b[38;5;124m'\u001b[39m\u001b[38;5;124mt let you open fd=\u001b[39m\u001b[38;5;132;01m{\u001b[39;00mfile\u001b[38;5;132;01m}\u001b[39;00m\u001b[38;5;124m by default \u001b[39m\u001b[38;5;124m\"\u001b[39m\n\u001b[1;32m    304\u001b[0m         \u001b[38;5;124m\"\u001b[39m\u001b[38;5;124mas it is likely to crash IPython. If you know what you are doing, \u001b[39m\u001b[38;5;124m\"\u001b[39m\n\u001b[1;32m    305\u001b[0m         \u001b[38;5;124m\"\u001b[39m\u001b[38;5;124myou can use builtins\u001b[39m\u001b[38;5;124m'\u001b[39m\u001b[38;5;124m open.\u001b[39m\u001b[38;5;124m\"\u001b[39m\n\u001b[1;32m    306\u001b[0m     )\n\u001b[0;32m--> 308\u001b[0m \u001b[38;5;28;01mreturn\u001b[39;00m \u001b[43mio_open\u001b[49m\u001b[43m(\u001b[49m\u001b[43mfile\u001b[49m\u001b[43m,\u001b[49m\u001b[43m \u001b[49m\u001b[38;5;241;43m*\u001b[39;49m\u001b[43margs\u001b[49m\u001b[43m,\u001b[49m\u001b[43m \u001b[49m\u001b[38;5;241;43m*\u001b[39;49m\u001b[38;5;241;43m*\u001b[39;49m\u001b[43mkwargs\u001b[49m\u001b[43m)\u001b[49m\n",
      "\u001b[0;31mFileNotFoundError\u001b[0m: [Errno 2] No such file or directory: 'input.txt'"
     ]
    }
   ],
   "source": [
    "import numpy as np\n",
    "with open('input.txt', 'r') as f:\n",
    "    matrix = [[int(num) for num in line.split()] for line in f]\n",
    "matrix = np.array(matrix)\n",
    "for i, matr in enumerate(matrix):\n",
    "    for j, elem in enumerate(matr):\n",
    "        elem = elem - np.mean(matr)\n",
    "print(matrix)"
   ]
  },
  {
   "cell_type": "code",
   "execution_count": null,
   "id": "662cd32f",
   "metadata": {},
   "outputs": [],
   "source": [
    "import numpy as np\n",
    "\n",
    "\n",
    "def count(matr):\n",
    "    tmp = 0\n",
    "    for col in range(matr.shape[1]):\n",
    "        if np.all(matr[:, col] == 0):\n",
    "            tmp += 1\n",
    "    return tmp\n",
    "\n",
    "result = count(matrix)\n",
    "print(result)"
   ]
  },
  {
   "cell_type": "markdown",
   "id": "63f9c687",
   "metadata": {},
   "source": [
    "СР НАМПИ"
   ]
  },
  {
   "cell_type": "code",
   "execution_count": 33,
   "id": "d53fa10b",
   "metadata": {},
   "outputs": [
    {
     "name": "stdout",
     "output_type": "stream",
     "text": [
      "6\n",
      "[[0 0 0 0 0 0]\n",
      " [0 1 0 1 0 1]\n",
      " [0 0 0 0 0 0]\n",
      " [0 1 0 1 0 1]\n",
      " [0 0 0 0 0 0]\n",
      " [0 1 0 1 0 1]]\n"
     ]
    }
   ],
   "source": [
    "#1. Шахматная доска\n",
    "def chess(size):\n",
    "    board = np.zeros((size, size), dtype=int)\n",
    "    board[::2, ::2] = 1  \n",
    "    board[1::2, 1::2] = 1 \n",
    "    return board\n",
    "\n",
    "size = int(input())\n",
    "tmp = chess(size)\n",
    "print(tmp)\n"
   ]
  },
  {
   "cell_type": "code",
   "execution_count": 19,
   "id": "77d37efc",
   "metadata": {},
   "outputs": [
    {
     "name": "stdout",
     "output_type": "stream",
     "text": [
      "5\n",
      "[[ 1  2  3  4  5]\n",
      " [ 2  4  6  8 10]\n",
      " [ 3  6  9 12 15]\n",
      " [ 4  8 12 16 20]\n",
      " [ 5 10 15 20 25]]\n"
     ]
    }
   ],
   "source": [
    "#2. Таблица умножения\n",
    "size = int(input())\n",
    "table = np.zeros((size, size), dtype=int)\n",
    "table = np.arange(1,size + 1)[:, None] * np.arange(1, size + 1)\n",
    "print(table)"
   ]
  },
  {
   "cell_type": "code",
   "execution_count": 21,
   "id": "96571d75",
   "metadata": {},
   "outputs": [
    {
     "name": "stdout",
     "output_type": "stream",
     "text": [
      "5\n",
      "2.605171084697352\n"
     ]
    }
   ],
   "source": [
    "#3. Среднее геометрическое\n",
    "import numpy as np\n",
    "array = list(map(float, input().split()))\n",
    "array = np.array(array)\n",
    "result = (np.prod(array))**(1/len(array))\n",
    "print(result)"
   ]
  }
 ],
 "metadata": {
  "kernelspec": {
   "display_name": "Python 3.12.0",
   "language": "python",
   "name": "python3"
  },
  "language_info": {
   "codemirror_mode": {
    "name": "ipython",
    "version": 3
   },
   "file_extension": ".py",
   "mimetype": "text/x-python",
   "name": "python",
   "nbconvert_exporter": "python",
   "pygments_lexer": "ipython3",
   "version": "3.12.0"
  }
 },
 "nbformat": 4,
 "nbformat_minor": 5
}
