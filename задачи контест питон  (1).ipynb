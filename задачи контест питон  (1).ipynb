{
 "cells": [
  {
   "cell_type": "markdown",
   "id": "12c947aa",
   "metadata": {},
   "source": [
    "задача А"
   ]
  },
  {
   "cell_type": "code",
   "execution_count": 1,
   "id": "b910049e",
   "metadata": {},
   "outputs": [
    {
     "name": "stdout",
     "output_type": "stream",
     "text": [
      "птичка напела, чтo количество лап за углом = 2\n",
      "1 0\n"
     ]
    }
   ],
   "source": [
    "n = int(input('птичка напела, чтo количество лап за углом = '))\n",
    "if n % 2 != 0:\n",
    "    print(0)\n",
    "else:\n",
    "    s = 0\n",
    "    cats = -1\n",
    "    i=n\n",
    "    while i >= 0:\n",
    "        gus = i//2\n",
    "        cats +=1\n",
    "        i = i - 4\n",
    "        print(gus, cats)\n",
    "        \n",
    "\n",
    "    \n"
   ]
  },
  {
   "cell_type": "markdown",
   "id": "c1e06bc1",
   "metadata": {},
   "source": [
    "Задача Е"
   ]
  },
  {
   "cell_type": "code",
   "execution_count": 35,
   "id": "99cc2004",
   "metadata": {},
   "outputs": [
    {
     "name": "stdout",
     "output_type": "stream",
     "text": [
      "2 2\n",
      "6\n",
      "9 7\n",
      "2.60233\n"
     ]
    }
   ],
   "source": [
    "center = map(float, input().split())\n",
    "rad = int(input())\n",
    "comma = map(float, input().split())\n",
    "cent = list(center)\n",
    "com = list(comma)\n",
    "length = ((cent[0]-com[0])**2 + (cent[1]-com[1])**2)**0.5\n",
    "if length == rad:\n",
    "    print (0.00000)\n",
    "elif length > rad:\n",
    "        print(round(length - rad, 5))\n",
    "else: print(round(rad - length, 5))\n",
    "        "
   ]
  },
  {
   "cell_type": "markdown",
   "id": "636287a9",
   "metadata": {},
   "source": [
    "Задача I"
   ]
  },
  {
   "cell_type": "code",
   "execution_count": 43,
   "id": "3ae207ad",
   "metadata": {},
   "outputs": [
    {
     "name": "stdout",
     "output_type": "stream",
     "text": [
      "true falce true\n",
      "(a or b) and (a or not(c)) or b and c\n",
      "True\n"
     ]
    }
   ],
   "source": [
    "a, b, c = map(bool, input().split())\n",
    "string = str(input())\n",
    "print (c)\n"
   ]
  },
  {
   "cell_type": "code",
   "execution_count": 6,
   "id": "8e928175",
   "metadata": {},
   "outputs": [
    {
     "ename": "IndentationError",
     "evalue": "unexpected indent (3508292941.py, line 17)",
     "output_type": "error",
     "traceback": [
      "\u001b[0;36m  Cell \u001b[0;32mIn[6], line 17\u001b[0;36m\u001b[0m\n\u001b[0;31m    result = eval(expression, local_vars)\u001b[0m\n\u001b[0m    ^\u001b[0m\n\u001b[0;31mIndentationError\u001b[0m\u001b[0;31m:\u001b[0m unexpected indent\n"
     ]
    }
   ],
   "source": [
    "def evaluate_expression(a, b, c, expression):\n",
    "    # Определяем локальный словарь с переменными и логическими функциями\n",
    "    local_vars = {\n",
    "        'a': a,\n",
    "        'b': b,\n",
    "        'c': c,\n",
    "        'and': lambda x, y: x and y,\n",
    "        'or': lambda x, y: x or y,\n",
    "        'not': lambda x: not x\n",
    "    }\n",
    "    \n",
    "    # Заменяем ключевые слова на Python-совместимые операторы\n",
    "    '''\n",
    "    expression = expression.replace(\"and\", \" and \")\n",
    "    expression = expression.replace(\"or\", \" or \")\n",
    "    expression = expression.replace(\"not\", \" not \")\n",
    "    '''\n",
    "    try:\n",
    "        # Вычисляем выражение в безопасной среде\n",
    "        result = eval(expression, {\"__builtins__\": None}, local_vars)\n",
    "        return result\n",
    "    except Exception as e:\n",
    "        print(f\"Ошибка при вычислении выражения: {e}\")\n",
    "        return None\n",
    "\n",
    "def main():\n",
    "    # Ввод значений переменных\n",
    "    a, b, c = map(bool, input().split())\n",
    "    \n",
    "    # Ввод логического выражения\n",
    "    expression = input().lower()\n",
    "    \n",
    "    # Вычисление и вывод результата\n",
    "    result = evaluate_expression(a, b, c, expression)\n",
    "    if result is not None:\n",
    "        print(\"true\" if result else \"false\")\n",
    "\n",
    "if __name__ == \"__main__\":\n",
    "    main()\n"
   ]
  },
  {
   "cell_type": "markdown",
   "id": "ab2f3a3b",
   "metadata": {},
   "source": [
    "Задача G"
   ]
  },
  {
   "cell_type": "code",
   "execution_count": null,
   "id": "75d34a57",
   "metadata": {},
   "outputs": [],
   "source": [
    "a, b, c, d = map(int, input().split())\n",
    "c1 = c - d\n",
    "D = b**2 - 4 * a * c1 \n",
    "if D > 0:\n",
    "    print(2)\n",
    "elif D < 0:\n",
    "    ptint(0)\n",
    "else: print(1)"
   ]
  },
  {
   "cell_type": "markdown",
   "id": "a049c686",
   "metadata": {},
   "source": [
    "Задача В"
   ]
  },
  {
   "cell_type": "code",
   "execution_count": 55,
   "id": "d2ad6544",
   "metadata": {},
   "outputs": [
    {
     "name": "stdout",
     "output_type": "stream",
     "text": [
      "3 2\n",
      "29\n"
     ]
    }
   ],
   "source": [
    "def A(m, n):\n",
    "    if m == 0:\n",
    "        return n + 1\n",
    "    elif n == 0:\n",
    "        return A(m - 1, 1)\n",
    "    else:\n",
    "        return A(m - 1, A(m, n - 1))\n",
    "\n",
    "m, n = map(int, input().split())\n",
    "a = A(m, n)\n",
    "print(a)"
   ]
  },
  {
   "cell_type": "markdown",
   "id": "e3c6929a",
   "metadata": {},
   "source": [
    "Задача D"
   ]
  },
  {
   "cell_type": "code",
   "execution_count": 33,
   "id": "5e58410c",
   "metadata": {},
   "outputs": [
    {
     "name": "stdout",
     "output_type": "stream",
     "text": [
      "fghjk09p[]<>)((_))\n",
      "NO\n"
     ]
    }
   ],
   "source": [
    "string = str(input())\n",
    "arr = []\n",
    "for i in range(len(string)):\n",
    "    if string[i] in '({[<>]})':\n",
    "        arr.append(string[i])\n",
    "        \n",
    "arr_count = [0]*8\n",
    "arr_of_ind = [0]*8\n",
    "for i, val in enumerate(arr):\n",
    "    if val == '(':\n",
    "        arr_count[0]+=1\n",
    "        arr_of_ind[0] += i\n",
    "    elif val == ')':\n",
    "        arr_count[1]+=1\n",
    "        arr_of_ind[1] += i\n",
    "    elif val == '[':\n",
    "        arr_count[2]+=1\n",
    "        arr_of_ind[2] += i\n",
    "    elif val == ']':\n",
    "        arr_count[3]+=1\n",
    "        arr_of_ind[3] += i\n",
    "    elif val == '{':\n",
    "        arr_count[4]+=1\n",
    "        arr_of_ind[4] += i\n",
    "    elif val == '}':\n",
    "        arr_count[5]+=1\n",
    "        arr_of_ind[5] += i\n",
    "    elif val == '<':\n",
    "        arr_count[6]+=1\n",
    "        arr_of_ind[6] += i\n",
    "    elif val == '>':\n",
    "        arr_count[7]+=1\n",
    "        arr_of_ind[7] += i\n",
    "if len(arr) == 0:\n",
    "    print('NO')\n",
    "elif arr_count[0]==arr_count[1] and arr_count[2]==arr_count[3] and arr_count[4]==arr_count[5] and arr_count[6]==arr_count[7]:\n",
    "    if arr_of_ind[1]>=arr_of_ind[0] and arr_of_ind[3]>=arr_of_ind[2] and arr_of_ind[5]>=arr_of_ind[4] and arr_of_ind[7]>=arr_of_ind[6]:\n",
    "        print('YES')\n",
    "    else:\n",
    "        print('NO')\n",
    "else:\n",
    "    print('NO')"
   ]
  },
  {
   "cell_type": "code",
   "execution_count": 32,
   "id": "6aa54e57",
   "metadata": {},
   "outputs": [
    {
     "name": "stdout",
     "output_type": "stream",
     "text": [
      "fghjk09p[]<>)((_))\n",
      "['[', ']', '<', '>', ')', '(', '(', ')', ')']\n"
     ]
    }
   ],
   "source": [
    "string = str(input())\n",
    "arr = []\n",
    "for i in range(len(string)):\n",
    "    if string[i] in '({[<>]})':\n",
    "        arr.append(string[i])\n",
    "print(arr)"
   ]
  },
  {
   "cell_type": "code",
   "execution_count": null,
   "id": "420587fd",
   "metadata": {},
   "outputs": [],
   "source": [
    "g((a(h{dd)fd)gd<)ff(>aa}s)"
   ]
  },
  {
   "cell_type": "code",
   "execution_count": null,
   "id": "c6dbd290",
   "metadata": {},
   "outputs": [],
   "source": []
  }
 ],
 "metadata": {
  "kernelspec": {
   "display_name": "Python 3.12.0",
   "language": "python",
   "name": "python3"
  },
  "language_info": {
   "codemirror_mode": {
    "name": "ipython",
    "version": 3
   },
   "file_extension": ".py",
   "mimetype": "text/x-python",
   "name": "python",
   "nbconvert_exporter": "python",
   "pygments_lexer": "ipython3",
   "version": "3.12.0"
  }
 },
 "nbformat": 4,
 "nbformat_minor": 5
}
