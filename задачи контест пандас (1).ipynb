{
 "cells": [
  {
   "cell_type": "markdown",
   "id": "30a5f75c-6bdb-471a-b13e-759223c45e52",
   "metadata": {},
   "source": [
    "задача А"
   ]
  },
  {
   "cell_type": "code",
   "execution_count": 8,
   "id": "bef00ca0-e878-468c-8e9e-3bf261122f49",
   "metadata": {},
   "outputs": [
    {
     "name": "stdout",
     "output_type": "stream",
     "text": [
      "4648\n",
      "455\n",
      "Лечебное дело\n",
      "Эксплуатация транспортно-технологических машин и комплексов\n",
      "92222\n",
      "44\n",
      "Ж\n"
     ]
    }
   ],
   "source": [
    "import pandas as pd\n",
    "\n",
    "df = pd.read_csv('input.csv')\n",
    "df = df.drop_duplicates(subset = 'STD_ID')\n",
    "\n",
    "students_in_university = len(df[df['Статус'] == 'СТ'])\n",
    "print(students_in_university)\n",
    "\n",
    "students_graduated = len(df[df['Статус'] == 'ВЫП'])\n",
    "print(students_graduated)\n",
    "\n",
    "men_students_in_university = df[(df['Пол'] == 'М') & (df['Статус'] == 'СТ')]\n",
    "most_popular_direction_men = men_students_in_university['направление (специальность)'].value_counts().idxmax()\n",
    "print(most_popular_direction_men)\n",
    "\n",
    "women_students_in_university = df[(df['Пол'] == 'Ж') & (df['Статус'] == 'СТ')]\n",
    "least_popular_direction_women = women_students_in_university['направление (специальность)'].value_counts().idxmin()\n",
    "print(least_popular_direction_women)\n",
    "\n",
    "empty_rows = df[df.drop('STD_ID', axis=1).isnull().all(axis=1)]\n",
    "for i in empty_rows['STD_ID'].values:\n",
    "    print(i)\n",
    "    \n",
    "unique_directions = df['направление (специальность)'].nunique()\n",
    "print(unique_directions)\n",
    "\n",
    "graduates_men = len(df[(df['Пол'] == 'М') & (df['Статус'] == 'ВЫП')])\n",
    "graduates_women = len(df[(df['Пол'] == 'Ж') & (df['Статус'] == 'ВЫП')])\n",
    "\n",
    "more_graduates = 'М' if graduates_men > graduates_women else 'Ж'\n",
    "print(more_graduates)\n"
   ]
  },
  {
   "cell_type": "markdown",
   "id": "f673103d-79a8-4a3f-8eb7-ea3865a1e076",
   "metadata": {},
   "source": [
    "задача В"
   ]
  },
  {
   "cell_type": "code",
   "execution_count": 3,
   "id": "d3d7ddc3-5218-494e-9df8-95345435d1ed",
   "metadata": {},
   "outputs": [
    {
     "data": {
      "text/html": [
       "<div>\n",
       "<style scoped>\n",
       "    .dataframe tbody tr th:only-of-type {\n",
       "        vertical-align: middle;\n",
       "    }\n",
       "\n",
       "    .dataframe tbody tr th {\n",
       "        vertical-align: top;\n",
       "    }\n",
       "\n",
       "    .dataframe thead th {\n",
       "        text-align: right;\n",
       "    }\n",
       "</style>\n",
       "<table border=\"1\" class=\"dataframe\">\n",
       "  <thead>\n",
       "    <tr style=\"text-align: right;\">\n",
       "      <th></th>\n",
       "      <th>STD_ID</th>\n",
       "      <th>НАПРАВЛЕНИЕ</th>\n",
       "      <th>ГОД</th>\n",
       "      <th>КУРС</th>\n",
       "      <th>СЕМЕСТР</th>\n",
       "      <th>АТТЕСТАЦИЯ</th>\n",
       "      <th>ДИСЦИПЛИНА</th>\n",
       "      <th>mark</th>\n",
       "    </tr>\n",
       "  </thead>\n",
       "  <tbody>\n",
       "    <tr>\n",
       "      <th>0</th>\n",
       "      <td>175711</td>\n",
       "      <td>38.03.02 Менеджмент</td>\n",
       "      <td>2018-2019</td>\n",
       "      <td>2.0</td>\n",
       "      <td>4.0</td>\n",
       "      <td>Экзамен</td>\n",
       "      <td>Маркетинг</td>\n",
       "      <td>5</td>\n",
       "    </tr>\n",
       "    <tr>\n",
       "      <th>1</th>\n",
       "      <td>100647</td>\n",
       "      <td>31.05.01 Лечебное дело</td>\n",
       "      <td>2015-2016</td>\n",
       "      <td>3.0</td>\n",
       "      <td>5.0</td>\n",
       "      <td>Экзамен</td>\n",
       "      <td>Пропедевтика внутренних болезней, лучевая диаг...</td>\n",
       "      <td>5</td>\n",
       "    </tr>\n",
       "    <tr>\n",
       "      <th>2</th>\n",
       "      <td>199311</td>\n",
       "      <td>31.05.03 Стоматология</td>\n",
       "      <td>2019-2020</td>\n",
       "      <td>1.0</td>\n",
       "      <td>1.0</td>\n",
       "      <td>Экзамен</td>\n",
       "      <td>Химия</td>\n",
       "      <td>5</td>\n",
       "    </tr>\n",
       "    <tr>\n",
       "      <th>3</th>\n",
       "      <td>162002</td>\n",
       "      <td>38.03.02 Менеджмент</td>\n",
       "      <td>2017-2018</td>\n",
       "      <td>2.0</td>\n",
       "      <td>3.0</td>\n",
       "      <td>Экзамен</td>\n",
       "      <td>Статистика</td>\n",
       "      <td>4</td>\n",
       "    </tr>\n",
       "    <tr>\n",
       "      <th>4</th>\n",
       "      <td>108384</td>\n",
       "      <td>31.05.01 Лечебное дело</td>\n",
       "      <td>2018-2019</td>\n",
       "      <td>5.0</td>\n",
       "      <td>9.0</td>\n",
       "      <td>Экзамен</td>\n",
       "      <td>Педиатрия</td>\n",
       "      <td>3</td>\n",
       "    </tr>\n",
       "  </tbody>\n",
       "</table>\n",
       "</div>"
      ],
      "text/plain": [
       "   STD_ID             НАПРАВЛЕНИЕ        ГОД  КУРС  СЕМЕСТР АТТЕСТАЦИЯ  \\\n",
       "0  175711     38.03.02 Менеджмент  2018-2019   2.0      4.0    Экзамен   \n",
       "1  100647  31.05.01 Лечебное дело  2015-2016   3.0      5.0    Экзамен   \n",
       "2  199311   31.05.03 Стоматология  2019-2020   1.0      1.0    Экзамен   \n",
       "3  162002     38.03.02 Менеджмент  2017-2018   2.0      3.0    Экзамен   \n",
       "4  108384  31.05.01 Лечебное дело  2018-2019   5.0      9.0    Экзамен   \n",
       "\n",
       "                                          ДИСЦИПЛИНА  mark  \n",
       "0                                          Маркетинг     5  \n",
       "1  Пропедевтика внутренних болезней, лучевая диаг...     5  \n",
       "2                                              Химия     5  \n",
       "3                                         Статистика     4  \n",
       "4                                          Педиатрия     3  "
      ]
     },
     "execution_count": 3,
     "metadata": {},
     "output_type": "execute_result"
    }
   ],
   "source": [
    "import pandas as pd\n",
    "df = pd.read_csv('задачаB.csv')\n",
    "df[(df['STD_ID'] == 99125)&(df['АТТЕСТАЦИЯ']=='Экзамен')].shape[0]\n",
    "print(round(df.loc[(df['STD_ID']==99125 ) & (df['АТТЕСТАЦИЯ']=='Экзамен'), 'mark'].mean() , 2))"
   ]
  },
  {
   "cell_type": "markdown",
   "id": "7d6b54d5-064c-4c82-a30f-3f53bbe1cc48",
   "metadata": {},
   "source": [
    "задача С"
   ]
  },
  {
   "cell_type": "code",
   "execution_count": 16,
   "id": "63f7cdd1-bc00-48d0-8b1a-e8e8ecef50e5",
   "metadata": {},
   "outputs": [],
   "source": [
    "import pandas as pd\n",
    "input_data = pd.read_csv('задачаС.csv')\n",
    "filtered_data = input_data[input_data['ДИСЦИПЛИНА'] == 'Компьютерные технологии в дизайне']\n",
    "avg_marks = filtered_data.groupby(['ГОД'], as_index = False).agg({'mark':'mean'})\n",
    "avg_marks['ДИСЦИПЛИНА'] = 'Компьютерные технологии в дизайне'\n",
    "output_data = avg_marks[['ГОД', 'ДИСЦИПЛИНА', 'mark']]\n",
    "output_data.to_csv('output.csv', index = False)"
   ]
  },
  {
   "cell_type": "markdown",
   "id": "e488abb0-5ee3-4c63-a6fa-ebcbb951a3ff",
   "metadata": {},
   "source": [
    "Задача D (почему то не загружается)"
   ]
  },
  {
   "cell_type": "code",
   "execution_count": 15,
   "id": "8fed6bb8-9ddb-47df-b71b-1500f288fab8",
   "metadata": {},
   "outputs": [],
   "source": [
    "\n",
    "import pandas as pd\n",
    "data_students = pd.read_csv('students_info.csv')\n",
    "data_exams = pd.read_csv('exams_info.csv')\n",
    "df = pd.merge(data_students, data_exams, on=\"STD_ID\") \n",
    "df = df[(df['АТТЕСТАЦИЯ']=='Экзамен')&(df['Статус']=='ВЫП')]\n",
    "df = df.groupby(['STD_ID']).agg({'mark': 'mean'})\n",
    "df.to_csv('output.csv')"
   ]
  },
  {
   "cell_type": "markdown",
   "id": "af19ab37-8cfc-40bf-981f-6cc63c6a6ab5",
   "metadata": {},
   "source": [
    "Задача E"
   ]
  },
  {
   "cell_type": "code",
   "execution_count": 13,
   "id": "83c83e1b-5e63-4967-97a8-8a0425c9eb44",
   "metadata": {},
   "outputs": [
    {
     "name": "stdout",
     "output_type": "stream",
     "text": [
      "16\n",
      "BASEMENT-I\n",
      "COMPRESSION\n",
      "DIAPIR\n",
      "EROSION\n",
      "EVAPORITE\n",
      "EXTENSION\n",
      "GRAVITY\n",
      "INVERSION\n",
      "LINKED\n",
      "REACTIVATION\n",
      "SHALE\n",
      "STRIKE-SLIP\n",
      "SYNSEDIMENTATION\n",
      "TRANSPRESSION\n",
      "TRANSTENSION\n",
      "UPLIFT\n"
     ]
    }
   ],
   "source": [
    "import pandas as pd\n",
    "\n",
    "df = pd.read_csv(\"tect.csv\")\n",
    "df = df.dropna(subset=[\"Tectonic regime\"])\n",
    "unique_types = df[\"Tectonic regime\"].str.split('/').explode()\n",
    "sorted_unique_types = sorted(unique_types.unique())\n",
    "print(len(sorted_unique_types))\n",
    "for tectonic_type in sorted_unique_types:\n",
    "    print(tectonic_type)"
   ]
  },
  {
   "cell_type": "code",
   "execution_count": null,
   "id": "bf4f64dc-db51-406f-87a7-97af5688fe0b",
   "metadata": {},
   "outputs": [],
   "source": [
    "import pandas as pd\n",
    "students_df = pd.read_csv('students_info.csv')\n",
    "exams_df = pd.read_csv('exams_info.csv')\n",
    "# Filter out only graduates (assumed graduation info is in the 'Дата выпуска' column)\n",
    "graduates_df = students_df.dropna(subset=['Дата выпуска'])\n",
    "\n",
    "# Merge students and exams data on 'STD_ID'\n",
    "merged_df = pd.merge(graduates_df[['STD_ID']], exams_df, on='STD_ID')\n",
    "\n",
    "# Filter out only exams (assuming 'Форма контроля' column defines the type of evaluation)\n",
    "exam_grades_df = merged_df[merged_df['Форма контроля'] == 'экзамен']\n",
    "\n",
    "# Calculate the average mark for each graduate\n",
    "average_marks_df = exam_grades_df.groupby('STD_ID')['Оценка'].mean().reset_index()\n",
    "\n",
    "# Rename the columns as per the requirement\n",
    "average_marks_df.columns = ['STD_ID', 'mark']\n",
    "\n",
    "# Sort by 'STD_ID'\n",
    "average_marks_df = average_marks_df.sort_values(by='STD_ID')\n",
    "\n",
    "# Save the result to a new CSV file\n",
    "output_path = '/mnt/data/average_grades.csv'\n",
    "average_marks_df.to_csv(output_path, index=False)\n",
    "\n",
    "average_marks_df.head()\n"
   ]
  }
 ],
 "metadata": {
  "kernelspec": {
   "display_name": "Python 3 (ipykernel)",
   "language": "python",
   "name": "python3"
  },
  "language_info": {
   "codemirror_mode": {
    "name": "ipython",
    "version": 3
   },
   "file_extension": ".py",
   "mimetype": "text/x-python",
   "name": "python",
   "nbconvert_exporter": "python",
   "pygments_lexer": "ipython3",
   "version": "3.12.6"
  }
 },
 "nbformat": 4,
 "nbformat_minor": 5
}
